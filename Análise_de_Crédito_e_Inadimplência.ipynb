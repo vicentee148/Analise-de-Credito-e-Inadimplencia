{
  "cells": [
    {
      "cell_type": "markdown",
      "metadata": {
        "id": "KJqp9AANOCtf"
      },
      "source": [
        "# **Análise de Crédito e Inadimplência**\n",
        "\n",
        "Projeto final do módulo ‘Python para Análise de Dados’, parte integrante do curso de Ciência de Dados da EBAC.\n"
      ]
    },
    {
      "cell_type": "markdown",
      "metadata": {
        "_kg_hide-input": false,
        "id": "d9jDtUbDOE1-"
      },
      "source": [
        "# **Tópicos**"
      ]
    },
    {
      "cell_type": "markdown",
      "metadata": {
        "execution": {
          "iopub.execute_input": "2024-02-23T21:16:06.674629Z",
          "iopub.status.busy": "2024-02-23T21:16:06.6743Z",
          "iopub.status.idle": "2024-02-23T21:16:06.706738Z",
          "shell.execute_reply": "2024-02-23T21:16:06.705373Z",
          "shell.execute_reply.started": "2024-02-23T21:16:06.674596Z"
        },
        "id": "SmoHgt-lwkpD"
      },
      "source": [
        "<ol type=\"1\">\n",
        "  <li>Introdução;</li>\n",
        "  <li>Exploração dos dados;</li>\n",
        "  <li>Transformação e limpeza dos dados;</li>\n",
        "  <li>Visualização dos dados;</li>\n",
        "  <li>Resultados.</li>\n",
        "</ol>\n"
      ]
    },
    {
      "cell_type": "markdown",
      "metadata": {
        "id": "muD1vxozykSC"
      },
      "source": [
        "# 1\\. Introdução"
      ]
    },
    {
      "cell_type": "markdown",
      "metadata": {
        "id": "PGLpOvdD1krl"
      },
      "source": [
        "O objetivo desta análise é investigar os fatores que contribuem para a inadimplência de um cliente, com base em seu comportamento e outros atributos, como salário, escolaridade e movimentação financeira.\n",
        "\n",
        "Para isso, vamos explorar os dados de crédito disponíveis no seguinte [link](https://raw.githubusercontent.com/andre-marcos-perez/ebac-course-utils/develop/dataset/credito.csv). Esses dados estão em formato CSV e fornecem informações sobre os clientes de uma instituição financeira. (Fornecidos por [André Perez](https://www.linkedin.com/in/andremarcosperez/))\n",
        "\n",
        "Especificamente, concentraremos nossa atenção na segunda coluna, denominada \"default\", que indica se um cliente é adimplente (default = 0) ou inadimplente (default = 1).\n",
        "\n",
        "Abaixo está uma descrição completa dos atributos presentes no  arquivo CSV:"
      ]
    },
    {
      "cell_type": "markdown",
      "metadata": {
        "id": "JvoP9l9S_MPP"
      },
      "source": [
        "| Coluna  | Descrição |\n",
        "| ------- | --------- |\n",
        "| id      | Número da conta |\n",
        "| default | Indica se o cliente é adimplente (0) ou inadimplente (1) |\n",
        "| idade   | Idade do cliente |\n",
        "| sexo    | Gênero do cliente |\n",
        "| depedentes | Número de dependentes financeiros |\n",
        "| escolaridade | Nível de escolaridade |\n",
        "| estado_civil | Estado civil |\n",
        "| salario_anual | Faixa do salario mensal multiplicado por 12 |\n",
        "| tipo_cartao | Categoria do cartao: blue, silver, gold e platinium |\n",
        "| meses_de_relacionamento | Quantidade de meses desde a abertura da conta |\n",
        "| qtd_produtos | Quantidade de produtos contratados |\n",
        "| iteracoes_12m | Quantidade de iteracoes com o cliente no último ano |\n",
        "| meses_inatico_12m | Quantidade de meses que o cliente ficou inativo no último ano |\n",
        "| limite_credito | Valor do limite do cartão de crédito |\n",
        "| valor_transacoes_12m | Soma total do valor das transações no cartão de crédito no último ano |\n",
        "| qtd_transacoes_12m | Quantidade total de transações no cartão de crédito no último ano |\n",
        "\n"
      ]
    },
    {
      "cell_type": "markdown",
      "metadata": {
        "id": "4rRCvy_UURrM"
      },
      "source": [
        "# 2\\. Exploração dos Dados"
      ]
    },
    {
      "cell_type": "markdown",
      "metadata": {
        "id": "4Kku-TY2_-6h"
      },
      "source": [
        "Vamos iniciar importando as bibliotecas necessárias e realizando a leitura dos dados."
      ]
    },
    {
      "cell_type": "code",
      "execution_count": null,
      "metadata": {
        "id": "2y8zAhgFK1rs",
        "scrolled": true
      },
      "outputs": [],
      "source": [
        "import pandas as pd\n",
        "import numpy as np\n",
        "import matplotlib.pylab as plt\n",
        "import seaborn as sns"
      ]
    },
    {
      "cell_type": "code",
      "execution_count": null,
      "metadata": {
        "colab": {
          "base_uri": "https://localhost:8080/",
          "height": 452
        },
        "id": "Oc1o3fzfKdhx",
        "jupyter": {
          "source_hidden": true
        },
        "outputId": "5b733740-8040-4821-e281-9725066f8f0e"
      },
      "outputs": [],
      "source": [
        "df = pd.read_csv('https://raw.githubusercontent.com/andre-marcos-perez/ebac-course-utils/develop/dataset/credito.csv', na_values='na')\n",
        "df.head(10)"
      ]
    },
    {
      "cell_type": "markdown",
      "metadata": {
        "id": "st715lfIDDks"
      },
      "source": [
        "## 2\\.1 Schema"
      ]
    },
    {
      "cell_type": "markdown",
      "metadata": {
        "id": "4Pe94-ISlDQi"
      },
      "source": [
        "Vamos examinar a estrutura e o formato dos dados"
      ]
    },
    {
      "cell_type": "code",
      "execution_count": null,
      "metadata": {
        "colab": {
          "base_uri": "https://localhost:8080/"
        },
        "id": "tDkPjbk9C6hB",
        "outputId": "7961845b-6c33-4cf4-969a-1b9c2c33540f"
      },
      "outputs": [],
      "source": [
        "linhas, colunas = df.shape\n",
        "print(f'O arquivo possui {linhas} linhas e {colunas} colunas.')"
      ]
    },
    {
      "cell_type": "code",
      "execution_count": null,
      "metadata": {
        "colab": {
          "base_uri": "https://localhost:8080/"
        },
        "id": "3GQQXxDNe084",
        "outputId": "61b1f58b-4f7d-4d36-abad-9c5de3c25e80"
      },
      "outputs": [],
      "source": [
        "total_clientes = len(df)\n",
        "adimplentes = df['default'].value_counts()[0]\n",
        "inadimplentes = df['default'].value_counts()[1]\n",
        "\n",
        "prop_adimplentes = round(100 * adimplentes / total_clientes, 2)\n",
        "prop_inadimplentes = round(100 * inadimplentes / total_clientes, 2)\n",
        "\n",
        "print(f'A proporção de clientes adimplentes é de {prop_adimplentes}% ({adimplentes} de {total_clientes})')\n",
        "print(f'A proporção de clientes inadimplentes é de {prop_inadimplentes}% ({inadimplentes} de {total_clientes})')\n"
      ]
    },
    {
      "cell_type": "code",
      "execution_count": null,
      "metadata": {
        "colab": {
          "base_uri": "https://localhost:8080/"
        },
        "id": "bP3bmTCfOj_d",
        "outputId": "406bd259-090d-41c4-f653-3bc835df3704"
      },
      "outputs": [],
      "source": [
        "df.columns # lista com o nome das colunas"
      ]
    },
    {
      "cell_type": "code",
      "execution_count": null,
      "metadata": {
        "colab": {
          "base_uri": "https://localhost:8080/"
        },
        "id": "zorDs2SvOpTZ",
        "outputId": "df2a84ed-a692-4984-8097-fcd79a2f3fee"
      },
      "outputs": [],
      "source": [
        "df.dtypes # tipos de dados de cada coluna"
      ]
    },
    {
      "cell_type": "code",
      "execution_count": null,
      "metadata": {
        "colab": {
          "base_uri": "https://localhost:8080/",
          "height": 320
        },
        "id": "7DEQFiXeO1Ck",
        "outputId": "51d83bc9-4ed9-47a9-d7d7-1c6f8bd88702"
      },
      "outputs": [],
      "source": [
        "df.describe().drop('id', axis=1) # estatísticas descritivas dos atributos numéricos"
      ]
    },
    {
      "cell_type": "code",
      "execution_count": null,
      "metadata": {
        "colab": {
          "base_uri": "https://localhost:8080/",
          "height": 174
        },
        "id": "1XALXq2QUQxJ",
        "outputId": "31443ff3-639a-49a2-dc9d-89ecd3723f32"
      },
      "outputs": [],
      "source": [
        "df.describe(include=['object']) # estatísticas descritivas dos atributos categóricos"
      ]
    },
    {
      "cell_type": "markdown",
      "metadata": {
        "id": "ZYJ05gLWUGNH"
      },
      "source": [
        "## 2\\.2 Dados faltantes"
      ]
    },
    {
      "cell_type": "markdown",
      "metadata": {
        "id": "ww51ksUKk62H"
      },
      "source": [
        "A seguir, apresentaremos algumas estatísticas sobre os dados ausentes em colunas específicas."
      ]
    },
    {
      "cell_type": "code",
      "execution_count": null,
      "metadata": {
        "colab": {
          "base_uri": "https://localhost:8080/"
        },
        "id": "uuQpttSs0CuV",
        "outputId": "49737c13-d0b5-4201-99be-80a6673d9152"
      },
      "outputs": [],
      "source": [
        "df.isna().any() # indica se há valores ausentes"
      ]
    },
    {
      "cell_type": "code",
      "execution_count": null,
      "metadata": {
        "id": "hHF50pEhofNz"
      },
      "outputs": [],
      "source": [
        "def total_faltantes(df: pd.DataFrame) -> None:\n",
        "    qtd_total = df.isna().sum().sum()\n",
        "    prop_total = df.isna().mean().mean() * 100\n",
        "    print(f\"A base de dados apresenta um total de {qtd_total} dados faltantes ({prop_total:.2f}%)\")"
      ]
    },
    {
      "cell_type": "code",
      "execution_count": null,
      "metadata": {
        "colab": {
          "base_uri": "https://localhost:8080/"
        },
        "id": "_5IokaR_p0G4",
        "outputId": "c251e806-ff39-4392-e3ae-fdcc647dd349"
      },
      "outputs": [],
      "source": [
        "total_faltantes(df) # quantidade total de valores faltantes"
      ]
    },
    {
      "cell_type": "code",
      "execution_count": null,
      "metadata": {
        "id": "BZESAPQT2U67"
      },
      "outputs": [],
      "source": [
        "def dados_faltantes(df):\n",
        "    missing_data = df.isna().sum()\n",
        "    missing_percentage = 100 * df.isna().mean()\n",
        "\n",
        "    for col, qtd, prop in zip(df.columns, missing_data, missing_percentage):\n",
        "        if qtd > 0:\n",
        "            print(f'{col}: faltam {qtd} dados ({prop:.2f}%)')"
      ]
    },
    {
      "cell_type": "code",
      "execution_count": null,
      "metadata": {
        "colab": {
          "base_uri": "https://localhost:8080/"
        },
        "id": "rVhj-zlLT40X",
        "outputId": "1b777b9d-b452-4113-a7ae-0702d084e710"
      },
      "outputs": [],
      "source": [
        "dados_faltantes(df) # apresenta os dados faltantes por coluna"
      ]
    },
    {
      "cell_type": "code",
      "execution_count": null,
      "metadata": {
        "colab": {
          "base_uri": "https://localhost:8080/"
        },
        "id": "QCJVcxkJ0atH",
        "outputId": "eaaff765-be51-477c-ba44-9d02fd66afed"
      },
      "outputs": [],
      "source": [
        "print('Proporção de dados faltantes dos clientes adimplentes:')\n",
        "dados_faltantes(df[df['default'] == 0])"
      ]
    },
    {
      "cell_type": "code",
      "execution_count": null,
      "metadata": {
        "colab": {
          "base_uri": "https://localhost:8080/"
        },
        "id": "tUrhkQ1z1D7w",
        "outputId": "e63529da-eb06-403b-e272-c2d9956c2e45"
      },
      "outputs": [],
      "source": [
        "print('Proporção de dados faltantes dos clientes inadimplentes:')\n",
        "dados_faltantes(df[df['default'] == 1])"
      ]
    },
    {
      "cell_type": "markdown",
      "metadata": {
        "id": "aoGJfTSWPaYt"
      },
      "source": [
        "# 3\\. Transformação e limpeza dos dados"
      ]
    },
    {
      "cell_type": "markdown",
      "metadata": {
        "id": "xpWhnO-NhjCc"
      },
      "source": [
        "Vamos corrigir as colunas \"valor_transacoes_12m\" e \"limite_credito\", que estão sendo erroneamente interpretadas como categóricas, e em seguida, remover os dados faltantes."
      ]
    },
    {
      "cell_type": "code",
      "execution_count": null,
      "metadata": {
        "id": "Vh36Qxkzq_yl"
      },
      "outputs": [],
      "source": [
        "def conv_moeda(df, column):\n",
        "    df[column] = df[column].str.replace('.', '').str.replace(',', '.').astype(float)\n"
      ]
    },
    {
      "cell_type": "markdown",
      "metadata": {},
      "source": [
        "Como constatamos que a proporção de linhas com dados faltantes não tem grande impacto em nossa base de dados, podemos excluí-las."
      ]
    },
    {
      "cell_type": "code",
      "execution_count": null,
      "metadata": {},
      "outputs": [],
      "source": [
        "conv_moeda(df, 'limite_credito')\n",
        "conv_moeda(df, 'valor_transacoes_12m')\n",
        "df.dropna(inplace=True)"
      ]
    },
    {
      "cell_type": "code",
      "execution_count": null,
      "metadata": {},
      "outputs": [],
      "source": [
        "print(df.info()) # informações gerais sobre as mudanças realizadas"
      ]
    },
    {
      "cell_type": "code",
      "execution_count": null,
      "metadata": {
        "colab": {
          "base_uri": "https://localhost:8080/",
          "height": 206
        },
        "id": "a6HHROAPiXeK",
        "outputId": "c4d52889-2ab1-487d-b945-0065ecffc86a"
      },
      "outputs": [],
      "source": [
        "df[['limite_credito', 'valor_transacoes_12m']].head()"
      ]
    },
    {
      "cell_type": "code",
      "execution_count": null,
      "metadata": {},
      "outputs": [],
      "source": [
        "print(f\"O total de linhas agora é: {len(df)}\")\n"
      ]
    },
    {
      "cell_type": "code",
      "execution_count": null,
      "metadata": {},
      "outputs": [],
      "source": [
        "qtd_total_novo = len(df)\n",
        "qtd_adimplentes_novo, qtd_inadimplentes_novo = df.groupby('default').size()"
      ]
    },
    {
      "cell_type": "code",
      "execution_count": null,
      "metadata": {},
      "outputs": [],
      "source": [
        "prop_adimplentes_novo = round(100 * qtd_adimplentes_novo / qtd_total_novo, 2)\n",
        "prop_inadimplentes_novo = round(100 * qtd_inadimplentes_novo / qtd_total_novo, 2)\n",
        "\n",
        "print(f'A nova proporção de clientes adimplentes é de {prop_adimplentes_novo}% ({qtd_adimplentes_novo} de {qtd_total_novo})')\n",
        "print(f'A nova proporção de clientes inadimplentes é de {prop_inadimplentes_novo}% ({qtd_inadimplentes_novo} de {qtd_total_novo})')"
      ]
    },
    {
      "cell_type": "markdown",
      "metadata": {
        "id": "FWfk8R7_2yA8"
      },
      "source": [
        "# 4\\. Visualização dos dados"
      ]
    },
    {
      "cell_type": "code",
      "execution_count": null,
      "metadata": {
        "colab": {
          "base_uri": "https://localhost:8080/",
          "height": 387
        },
        "id": "fqxMQJeX1lw6",
        "outputId": "c7dcc92e-e6b6-4e19-feef-06a7af0531dd"
      },
      "outputs": [],
      "source": [
        "df.corr()"
      ]
    },
    {
      "cell_type": "markdown",
      "metadata": {
        "id": "M3bGKCvW26S3"
      },
      "source": [
        "# 5\\. Resultados"
      ]
    }
  ],
  "metadata": {
    "colab": {
      "provenance": [],
      "toc_visible": true
    },
    "kaggle": {
      "accelerator": "none",
      "dataSources": [],
      "dockerImageVersionId": 30646,
      "isGpuEnabled": false,
      "isInternetEnabled": false,
      "language": "python",
      "sourceType": "notebook"
    },
    "kernelspec": {
      "display_name": "Python 3",
      "language": "python",
      "name": "python3"
    },
    "language_info": {
      "codemirror_mode": {
        "name": "ipython",
        "version": 3
      },
      "file_extension": ".py",
      "mimetype": "text/x-python",
      "name": "python",
      "nbconvert_exporter": "python",
      "pygments_lexer": "ipython3",
      "version": "3.11.5"
    }
  },
  "nbformat": 4,
  "nbformat_minor": 0
}
