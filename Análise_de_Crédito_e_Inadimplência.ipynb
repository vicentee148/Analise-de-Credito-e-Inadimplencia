{
  "cells": [
    {
      "cell_type": "markdown",
      "metadata": {
        "id": "KJqp9AANOCtf"
      },
      "source": [
        "# **Análise de Crédito e Inadimplência**\n",
        "\n",
        "Projeto final do módulo \"Python para Análise de Dados\", parte integrante do curso de Ciência de Dados da EBAC.\n"
      ]
    },
    {
      "cell_type": "markdown",
      "metadata": {
        "_kg_hide-input": false,
        "id": "d9jDtUbDOE1-"
      },
      "source": [
        "# **Etapas**\n",
        "\n",
        "<ol type=\"1\">\n",
        "  <li>Contexto</li>\n",
        "  <li>Análise Exploratória</li>\n",
        "  <li>Preparação dos Dados</li>\n",
        "  <li>Visualização e Insights</li>\n",
        "  <li>Conclusões</li>\n",
        "</ol>\n"
      ]
    },
    {
      "cell_type": "markdown",
      "metadata": {
        "id": "muD1vxozykSC"
      },
      "source": [
        "# 1\\. Contexto"
      ]
    },
    {
      "cell_type": "markdown",
      "metadata": {
        "id": "PGLpOvdD1krl"
      },
      "source": [
        "O objetivo desta análise é investigar os fatores que contribuem para a inadimplência de um cliente, considerando o comportamento de alguns de seus atributos, como renda, relacionamento com a empresa e histórico financeiro.\n",
        "\n",
        "Para isso, vamos explorar os dados de crédito disponíveis no seguinte [link](https://raw.githubusercontent.com/andre-marcos-perez/ebac-course-utils/develop/dataset/credito.csv). Esses dados estão em formato CSV e fornecem informações sobre os clientes de uma instituição financeira. (Fornecidos por [André Perez](https://www.linkedin.com/in/andremarcosperez/))\n",
        "\n",
        "Especificamente, concentraremos nossa atenção na segunda coluna, denominada \"default\", que indica se um cliente é adimplente (default = 0) ou inadimplente (default = 1).\n",
        "\n",
        "Abaixo está uma descrição completa dos atributos presentes no  arquivo CSV:"
      ]
    },
    {
      "cell_type": "markdown",
      "metadata": {
        "id": "JvoP9l9S_MPP"
      },
      "source": [
        "| Coluna  | Descrição |\n",
        "| ------- | --------- |\n",
        "| id      | Número da conta |\n",
        "| default | Indica se o cliente é adimplente (0) ou inadimplente (1) |\n",
        "| idade   | Idade do cliente |\n",
        "| sexo    | Gênero do cliente |\n",
        "| dependentes | Número de dependentes financeiros |\n",
        "| escolaridade | Nível de escolaridade |\n",
        "| estado_civil | Estado civil |\n",
        "| salario_anual | Faixa do salário mensal multiplicado por 12 |\n",
        "| tipo_cartao | Categoria do cartão |\n",
        "| meses_de_relacionamento | Tempo de relacionamento com a instituição |\n",
        "| qtd_produtos | Quantidade de produtos contratados |\n",
        "| iteracoes_12m | Quantidade de iterações com o cliente no último ano |\n",
        "| meses_inativo_12m | Quantidade de meses que o cliente ficou inativo no último ano |\n",
        "| limite_credito | Valor do limite de crédito do cartão |\n",
        "| valor_transacoes_12m | Valor total das transações no cartão de crédito no último ano |\n",
        "| qtd_transacoes_12m | Quantidade total de transações no cartão de crédito no último ano |\n"
      ]
    },
    {
      "cell_type": "markdown",
      "metadata": {
        "id": "4rRCvy_UURrM"
      },
      "source": [
        "# 2\\. Análise Exploratória"
      ]
    },
    {
      "cell_type": "markdown",
      "metadata": {
        "id": "4Kku-TY2_-6h"
      },
      "source": [
        "Vamos iniciar importando as bibliotecas necessárias e realizando a leitura dos dados."
      ]
    },
    {
      "cell_type": "code",
      "execution_count": null,
      "metadata": {
        "id": "2y8zAhgFK1rs",
        "scrolled": true
      },
      "outputs": [],
      "source": [
        "import pandas as pd\n",
        "import numpy as np\n",
        "import matplotlib.pylab as plt\n",
        "import seaborn as sns\n",
        "\n",
        "sns.set(style='whitegrid')"
      ]
    },
    {
      "cell_type": "code",
      "execution_count": null,
      "metadata": {
        "colab": {
          "base_uri": "https://localhost:8080/",
          "height": 452
        },
        "id": "Oc1o3fzfKdhx",
        "jupyter": {
          "source_hidden": true
        },
        "outputId": "5b733740-8040-4821-e281-9725066f8f0e"
      },
      "outputs": [],
      "source": [
        "df = pd.read_csv('https://raw.githubusercontent.com/andre-marcos-perez/ebac-course-utils/develop/dataset/credito.csv', na_values='na')\n",
        "df.head()"
      ]
    },
    {
      "cell_type": "markdown",
      "metadata": {
        "id": "st715lfIDDks"
      },
      "source": [
        "## 2\\.1 Schema"
      ]
    },
    {
      "cell_type": "markdown",
      "metadata": {
        "id": "4Pe94-ISlDQi"
      },
      "source": [
        "Vamos examinar a estrutura e o formato dos dados"
      ]
    },
    {
      "cell_type": "code",
      "execution_count": null,
      "metadata": {
        "colab": {
          "base_uri": "https://localhost:8080/"
        },
        "id": "tDkPjbk9C6hB",
        "outputId": "7961845b-6c33-4cf4-969a-1b9c2c33540f"
      },
      "outputs": [],
      "source": [
        "linhas, colunas = df.shape\n",
        "print(f'O arquivo possui {linhas} linhas e {colunas} colunas.')"
      ]
    },
    {
      "cell_type": "code",
      "execution_count": null,
      "metadata": {
        "colab": {
          "base_uri": "https://localhost:8080/"
        },
        "id": "3GQQXxDNe084",
        "outputId": "61b1f58b-4f7d-4d36-abad-9c5de3c25e80"
      },
      "outputs": [],
      "source": [
        "total_clientes = len(df)\n",
        "adimplentes = df['default'].value_counts()[0]\n",
        "inadimplentes = df['default'].value_counts()[1]\n",
        "\n",
        "prop_adimplentes = round(100 * adimplentes / total_clientes, 2)\n",
        "prop_inadimplentes = round(100 * inadimplentes / total_clientes, 2)\n",
        "\n",
        "print(f'A proporção de clientes adimplentes é de {prop_adimplentes}% '\n",
        "    f'({adimplentes} de {total_clientes})')\n",
        "print(f'A proporção de clientes inadimplentes é de {prop_inadimplentes}% '\n",
        "    f'({inadimplentes} de {total_clientes})')"
      ]
    },
    {
      "cell_type": "code",
      "execution_count": null,
      "metadata": {
        "colab": {
          "base_uri": "https://localhost:8080/"
        },
        "id": "bP3bmTCfOj_d",
        "outputId": "406bd259-090d-41c4-f653-3bc835df3704"
      },
      "outputs": [],
      "source": [
        "df.columns"
      ]
    },
    {
      "cell_type": "code",
      "execution_count": null,
      "metadata": {
        "colab": {
          "base_uri": "https://localhost:8080/"
        },
        "id": "zorDs2SvOpTZ",
        "outputId": "df2a84ed-a692-4984-8097-fcd79a2f3fee"
      },
      "outputs": [],
      "source": [
        "df.dtypes"
      ]
    },
    {
      "cell_type": "code",
      "execution_count": null,
      "metadata": {
        "colab": {
          "base_uri": "https://localhost:8080/",
          "height": 320
        },
        "id": "7DEQFiXeO1Ck",
        "outputId": "51d83bc9-4ed9-47a9-d7d7-1c6f8bd88702"
      },
      "outputs": [],
      "source": [
        "# estatísticas descritivas das variáveis numéricas\n",
        "df.describe().drop('id', axis=1)"
      ]
    },
    {
      "cell_type": "code",
      "execution_count": null,
      "metadata": {
        "colab": {
          "base_uri": "https://localhost:8080/",
          "height": 174
        },
        "id": "1XALXq2QUQxJ",
        "outputId": "31443ff3-639a-49a2-dc9d-89ecd3723f32"
      },
      "outputs": [],
      "source": [
        "# estatísticas descritivas das variáveis categóricas\n",
        "df.describe(include=['object'])"
      ]
    },
    {
      "cell_type": "code",
      "execution_count": null,
      "metadata": {},
      "outputs": [],
      "source": [
        "# verifica se há alguma conta duplicada\n",
        "df['id'].duplicated().any()"
      ]
    },
    {
      "cell_type": "markdown",
      "metadata": {
        "id": "ZYJ05gLWUGNH"
      },
      "source": [
        "## 2\\.2 Dados faltantes"
      ]
    },
    {
      "cell_type": "markdown",
      "metadata": {
        "id": "ww51ksUKk62H"
      },
      "source": [
        "A seguir, apresentaremos algumas estatísticas sobre os dados ausentes em colunas específicas."
      ]
    },
    {
      "cell_type": "code",
      "execution_count": null,
      "metadata": {
        "colab": {
          "base_uri": "https://localhost:8080/"
        },
        "id": "uuQpttSs0CuV",
        "outputId": "49737c13-d0b5-4201-99be-80a6673d9152"
      },
      "outputs": [],
      "source": [
        "df.isna().any()"
      ]
    },
    {
      "cell_type": "code",
      "execution_count": null,
      "metadata": {
        "id": "hHF50pEhofNz"
      },
      "outputs": [],
      "source": [
        "def total_faltantes(df: pd.DataFrame) -> None:\n",
        "    qtd_total = df.isna().sum().sum()\n",
        "    prop_total = df.isna().mean().mean() * 100\n",
        "    print(f'A base de dados apresenta um total de {qtd_total} dados faltantes '\n",
        "    f'({prop_total:.2f}%)')"
      ]
    },
    {
      "cell_type": "code",
      "execution_count": null,
      "metadata": {
        "colab": {
          "base_uri": "https://localhost:8080/"
        },
        "id": "_5IokaR_p0G4",
        "outputId": "c251e806-ff39-4392-e3ae-fdcc647dd349"
      },
      "outputs": [],
      "source": [
        "# quantidade total de dados faltantes\n",
        "total_faltantes(df)"
      ]
    },
    {
      "cell_type": "code",
      "execution_count": null,
      "metadata": {
        "id": "BZESAPQT2U67"
      },
      "outputs": [],
      "source": [
        "def dados_faltantes(df):\n",
        "    dados_ausentes = df.isna().sum()\n",
        "    prop_ausentes = 100 * df.isna().mean()\n",
        "\n",
        "    for col, qtd, prop in zip(df.columns, dados_ausentes, prop_ausentes):\n",
        "        if qtd > 0:\n",
        "            print(f'{col}: faltam {qtd} dados ({prop:.2f}%)')"
      ]
    },
    {
      "cell_type": "code",
      "execution_count": null,
      "metadata": {
        "colab": {
          "base_uri": "https://localhost:8080/"
        },
        "id": "rVhj-zlLT40X",
        "outputId": "1b777b9d-b452-4113-a7ae-0702d084e710"
      },
      "outputs": [],
      "source": [
        "# apresenta os dados faltantes por coluna\n",
        "dados_faltantes(df)"
      ]
    },
    {
      "cell_type": "code",
      "execution_count": null,
      "metadata": {
        "colab": {
          "base_uri": "https://localhost:8080/"
        },
        "id": "QCJVcxkJ0atH",
        "outputId": "eaaff765-be51-477c-ba44-9d02fd66afed"
      },
      "outputs": [],
      "source": [
        "print('Proporção de dados faltantes dos clientes adimplentes:')\n",
        "dados_faltantes(df[df['default'] == 0])"
      ]
    },
    {
      "cell_type": "code",
      "execution_count": null,
      "metadata": {
        "colab": {
          "base_uri": "https://localhost:8080/"
        },
        "id": "tUrhkQ1z1D7w",
        "outputId": "e63529da-eb06-403b-e272-c2d9956c2e45"
      },
      "outputs": [],
      "source": [
        "print('Proporção de dados faltantes dos clientes inadimplentes:')\n",
        "dados_faltantes(df[df['default'] == 1])"
      ]
    },
    {
      "cell_type": "markdown",
      "metadata": {
        "id": "aoGJfTSWPaYt"
      },
      "source": [
        "# 3\\. Preparação dos Dados"
      ]
    },
    {
      "cell_type": "markdown",
      "metadata": {
        "id": "xpWhnO-NhjCc"
      },
      "source": [
        "As colunas “valor_transacoes_12m” e “limite_credito” estão sendo erroneamente interpretadas como categóricas. Vamos ajustá-las para que sejam tratadas corretamente como variáveis numéricas. Além disso, após análise, constatamos que a proporção de linhas com dados faltantes não impacta significativamente nossa base de dados. Portanto, podemos excluí-las sem grande prejuízo."
      ]
    },
    {
      "cell_type": "code",
      "execution_count": null,
      "metadata": {
        "id": "Vh36Qxkzq_yl"
      },
      "outputs": [],
      "source": [
        "def conv_moeda(df, column):\n",
        "    df[column] = df[column].str.replace('.', '').str.replace(',', '.').astype(float)"
      ]
    },
    {
      "cell_type": "code",
      "execution_count": null,
      "metadata": {},
      "outputs": [],
      "source": [
        "conv_moeda(df, 'limite_credito')\n",
        "conv_moeda(df, 'valor_transacoes_12m')\n",
        "df.dropna(inplace=True)"
      ]
    },
    {
      "cell_type": "code",
      "execution_count": null,
      "metadata": {},
      "outputs": [],
      "source": [
        "# verifica se ainda há dados faltantes\n",
        "df.isna().sum()"
      ]
    },
    {
      "cell_type": "code",
      "execution_count": null,
      "metadata": {
        "colab": {
          "base_uri": "https://localhost:8080/",
          "height": 206
        },
        "id": "a6HHROAPiXeK",
        "outputId": "c4d52889-2ab1-487d-b945-0065ecffc86a"
      },
      "outputs": [],
      "source": [
        "df[['limite_credito', 'valor_transacoes_12m']].head()"
      ]
    },
    {
      "cell_type": "code",
      "execution_count": null,
      "metadata": {},
      "outputs": [],
      "source": [
        "print(f\"O total de linhas agora é: {len(df)}\")"
      ]
    },
    {
      "cell_type": "code",
      "execution_count": null,
      "metadata": {},
      "outputs": [],
      "source": [
        "qtd_total_novo = len(df)\n",
        "qtd_adimplentes_novo, qtd_inadimplentes_novo = df.groupby('default').size()"
      ]
    },
    {
      "cell_type": "code",
      "execution_count": null,
      "metadata": {},
      "outputs": [],
      "source": [
        "prop_adimplentes_novo = round(100 * qtd_adimplentes_novo / qtd_total_novo, 2)\n",
        "prop_inadimplentes_novo = round(100 * qtd_inadimplentes_novo / qtd_total_novo, 2)\n",
        "\n",
        "print(f'A nova proporção de clientes adimplentes é de {prop_adimplentes_novo}% '\n",
        "    f'({qtd_adimplentes_novo} de {qtd_total_novo})')\n",
        "print(f'A nova proporção de clientes inadimplentes é de {prop_inadimplentes_novo}% '\n",
        "    f'({qtd_inadimplentes_novo} de {qtd_total_novo})')"
      ]
    },
    {
      "cell_type": "code",
      "execution_count": null,
      "metadata": {},
      "outputs": [],
      "source": [
        "df.rename(columns={'idade' : 'Idade', 'sexo' : 'Sexo', 'dependentes' : 'Dependentes', 'escolaridade' : 'Escolaridade', 'estado_civil' : 'Estado_Civil', 'salario_anual' : 'Salário_Anual', 'tipo_cartao' : 'Tipo_Cartão', 'meses_de_relacionamento' : 'Meses_de_Relacionamento', 'qtd_produtos' : 'Quantidade_Produtos', 'iteracoes_12m' : 'Iterações_12m', 'meses_inativo_12m' : 'Meses_Inativo_12m', 'limite_credito' : 'Limite_de_Crédito', 'valor_transacoes_12m' : 'Valor_Transações_12m', 'qtd_transacoes_12m' : 'Quantidade_Transações_12m'}, inplace=True)"
      ]
    },
    {
      "cell_type": "code",
      "execution_count": null,
      "metadata": {},
      "outputs": [],
      "source": [
        "# informações gerais sobre as mudanças realizadas\n",
        "print(df.info())"
      ]
    },
    {
      "cell_type": "markdown",
      "metadata": {
        "id": "FWfk8R7_2yA8"
      },
      "source": [
        "# 4\\. Visualização e Insights"
      ]
    },
    {
      "cell_type": "markdown",
      "metadata": {},
      "source": [
        "Nesta etapa, vamos criar algumas visualizações para correlacionar os atributos que procuram explicar a coluna 'default'. Alguns dados não serão utilizados nas análises, em conformidade com a LGPD."
      ]
    },
    {
      "cell_type": "code",
      "execution_count": null,
      "metadata": {},
      "outputs": [],
      "source": [
        "df_adimplente = df[df['default'] == 0]"
      ]
    },
    {
      "cell_type": "code",
      "execution_count": null,
      "metadata": {},
      "outputs": [],
      "source": [
        "df_inadimplente = df[df['default'] == 1]"
      ]
    },
    {
      "cell_type": "code",
      "execution_count": null,
      "metadata": {},
      "outputs": [],
      "source": [
        "plt.figure(figsize=(8, 6))\n",
        "plt.pie([prop_adimplentes_novo, prop_inadimplentes_novo],\n",
        "        labels=['Adimplentes', 'Inadimplentes'],\n",
        "        colors=['#1f77b4', '#ff7f0e'],\n",
        "        autopct='%1.2f%%',\n",
        "        startangle=140)\n",
        "plt.title('Proporção de clientes')\n",
        "plt.axis('equal')\n",
        "\n",
        "plt.show()"
      ]
    },
    {
      "cell_type": "markdown",
      "metadata": {},
      "source": [
        "## 4\\.1 Visualizações Categóricas"
      ]
    },
    {
      "cell_type": "markdown",
      "metadata": {},
      "source": [
        "- Escolaridade"
      ]
    },
    {
      "cell_type": "code",
      "execution_count": null,
      "metadata": {},
      "outputs": [],
      "source": [
        "coluna = 'Escolaridade'\n",
        "titulos = ['Total de Clientes', 'Adimplentes', 'Inadimplentes']\n",
        "\n",
        "figura, eixos = plt.subplots(1,3, figsize=(20, 5), sharey=True)\n",
        "\n",
        "for eixo, dataframe in enumerate([df, df_adimplente, df_inadimplente]):\n",
        "    frequencia_absoluta = dataframe[coluna].value_counts()\n",
        "    sns.barplot(x=frequencia_absoluta.index, y=frequencia_absoluta.values, ax=eixos[eixo])\n",
        "    eixos[eixo].set(title=titulos[eixo], xlabel=coluna, ylabel='Frequência Absoluta')\n",
        "    eixos[eixo].tick_params(axis='x', rotation=90)\n",
        "\n",
        "plt.show()"
      ]
    },
    {
      "cell_type": "markdown",
      "metadata": {},
      "source": [
        "- Estado Civil"
      ]
    },
    {
      "cell_type": "code",
      "execution_count": null,
      "metadata": {},
      "outputs": [],
      "source": [
        "coluna = 'Estado_Civil'\n",
        "titulos = ['Total de Clientes', 'Adimplentes', 'Inadimplentes']\n",
        "\n",
        "figura, eixos = plt.subplots(1,3, figsize=(20, 5), sharey=True)\n",
        "\n",
        "for eixo, dataframe in enumerate([df, df_adimplente, df_inadimplente]):\n",
        "    frequencia_absoluta = dataframe[coluna].value_counts()\n",
        "    sns.barplot(x=frequencia_absoluta.index, y=frequencia_absoluta.values, ax=eixos[eixo])\n",
        "    eixos[eixo].set(title=titulos[eixo], xlabel=coluna, ylabel='Frequência Absoluta')\n",
        "    eixos[eixo].tick_params(axis='x', rotation=90)\n",
        "\n",
        "plt.show()"
      ]
    },
    {
      "cell_type": "markdown",
      "metadata": {},
      "source": [
        "- Salário Anual"
      ]
    },
    {
      "cell_type": "code",
      "execution_count": null,
      "metadata": {},
      "outputs": [],
      "source": [
        "coluna = 'Salário_Anual'\n",
        "titulos = ['Total de Clientes', 'Adimplentes', 'Inadimplentes']\n",
        "\n",
        "figura, eixos = plt.subplots(1,3, figsize=(20, 5), sharey=True)\n",
        "\n",
        "for eixo, dataframe in enumerate([df, df_adimplente, df_inadimplente]):\n",
        "    frequencia_absoluta = dataframe[coluna].value_counts()\n",
        "    sns.barplot(x=frequencia_absoluta.index, y=frequencia_absoluta.values, ax=eixos[eixo])\n",
        "    eixos[eixo].set(title=titulos[eixo], xlabel=coluna, ylabel='Frequência Absoluta')\n",
        "    eixos[eixo].tick_params(axis='x', rotation=90)\n",
        "\n",
        "plt.show()"
      ]
    },
    {
      "cell_type": "markdown",
      "metadata": {},
      "source": [
        "- Tipo do Cartão"
      ]
    },
    {
      "cell_type": "code",
      "execution_count": null,
      "metadata": {},
      "outputs": [],
      "source": [
        "coluna = 'Tipo_Cartão'\n",
        "titulos = ['Total de Clientes', 'Adimplentes', 'Inadimplentes']\n",
        "\n",
        "figura, eixos = plt.subplots(1,3, figsize=(20, 5), sharey=True)\n",
        "\n",
        "for eixo, dataframe in enumerate([df, df_adimplente, df_inadimplente]):\n",
        "    frequencia_absoluta = dataframe[coluna].value_counts()\n",
        "    sns.barplot(x=frequencia_absoluta.index, y=frequencia_absoluta.values, ax=eixos[eixo])\n",
        "    eixos[eixo].set(title=titulos[eixo], xlabel=coluna, ylabel='Frequência Absoluta')\n",
        "    eixos[eixo].tick_params(axis='x', rotation=90)\n",
        "\n",
        "plt.show()"
      ]
    },
    {
      "cell_type": "markdown",
      "metadata": {},
      "source": [
        "## 4\\.2 Visualizações Numéricas"
      ]
    },
    {
      "cell_type": "code",
      "execution_count": null,
      "metadata": {},
      "outputs": [],
      "source": [
        "df_corr = df[['Meses_de_Relacionamento', 'Idade', 'Dependentes', \n",
        "                'Quantidade_Produtos', 'Iterações_12m','Meses_Inativo_12m', \n",
        "                'Limite_de_Crédito', 'Valor_Transações_12m',\n",
        "                'Quantidade_Transações_12m']].corr()\n",
        "df_corr"
      ]
    },
    {
      "cell_type": "code",
      "execution_count": null,
      "metadata": {},
      "outputs": [],
      "source": [
        "sns.heatmap(df_corr, annot=True, cmap='coolwarm')"
      ]
    },
    {
      "cell_type": "markdown",
      "metadata": {},
      "source": [
        "- Idade"
      ]
    },
    {
      "cell_type": "code",
      "execution_count": null,
      "metadata": {},
      "outputs": [],
      "source": [
        "coluna = 'Idade'\n",
        "titulos = ['Total de Clientes', 'Adimplentes', 'Inadimplentes']\n",
        "\n",
        "figura, eixos = plt.subplots(1, 3, figsize=(20, 5), sharey=True)\n",
        "\n",
        "for eixo, dataframe in enumerate([df, df_adimplente, df_inadimplente]):\n",
        "    f = sns.histplot(x=coluna, data=dataframe, stat='count', ax=eixos[eixo])\n",
        "    f.set(title=titulos[eixo], xlabel=coluna, ylabel='Frequência Absoluta')\n",
        "    f.set_ylim(0, None)\n",
        "\n",
        "plt.show()"
      ]
    },
    {
      "cell_type": "markdown",
      "metadata": {},
      "source": [
        "- Meses de Relacionamento"
      ]
    },
    {
      "cell_type": "code",
      "execution_count": null,
      "metadata": {},
      "outputs": [],
      "source": [
        "coluna = 'Meses_de_Relacionamento'\n",
        "titulos = ['Total de Clientes', 'Adimplentes', 'Inadimplentes']\n",
        "\n",
        "figura, eixos = plt.subplots(1, 3, figsize=(20, 5), sharey=True)\n",
        "\n",
        "for eixo, dataframe in enumerate([df, df_adimplente, df_inadimplente]):\n",
        "    f = sns.histplot(x=coluna, data=dataframe, stat='count', ax=eixos[eixo])\n",
        "    f.set(title=titulos[eixo], xlabel=coluna, ylabel='Frequência Absoluta')\n",
        "    f.set_ylim(0, None)\n",
        "\n",
        "plt.show()"
      ]
    },
    {
      "cell_type": "code",
      "execution_count": null,
      "metadata": {},
      "outputs": [],
      "source": [
        "df_sorted = df.sort_values('Idade')\n",
        "\n",
        "plt.figure(figsize=(10, 6))\n",
        "sns.lineplot(x='Idade', y='Meses_de_Relacionamento', hue='default', data=df_sorted)\n",
        "plt.title('Relação entre Idade e Meses de Relacionamento')\n",
        "plt.xlabel('Idade dos Clientes')\n",
        "plt.ylabel('Meses de Relacionamento')\n",
        "plt.legend(title='Default', loc='best')\n",
        "plt.grid(True)\n",
        "\n",
        "plt.show()"
      ]
    },
    {
      "cell_type": "markdown",
      "metadata": {},
      "source": [
        "- Valor das transações nos últimos 12 meses"
      ]
    },
    {
      "cell_type": "code",
      "execution_count": null,
      "metadata": {},
      "outputs": [],
      "source": [
        "coluna = 'Valor_Transações_12m'\n",
        "titulos = ['Total de Clientes', 'Adimplentes', 'Inadimplentes']\n",
        "\n",
        "figura, eixos = plt.subplots(1, 3, figsize=(20, 5), sharey=True)\n",
        "\n",
        "for eixo, dataframe in enumerate([df, df_adimplente, df_inadimplente]):\n",
        "    f = sns.histplot(x=coluna, data=dataframe, stat='count', ax=eixos[eixo])\n",
        "    f.set(title=titulos[eixo], xlabel=coluna, ylabel='Frequência Absoluta')\n",
        "    f.set_ylim(0, None)\n",
        "\n",
        "plt.show()"
      ]
    },
    {
      "cell_type": "markdown",
      "metadata": {},
      "source": [
        "- Quantidade de transações nos últimos 12 meses"
      ]
    },
    {
      "cell_type": "code",
      "execution_count": null,
      "metadata": {},
      "outputs": [],
      "source": [
        "coluna = 'Quantidade_Transações_12m'\n",
        "titulos = ['Total de Clientes', 'Adimplentes', 'Inadimplentes']\n",
        "\n",
        "figura, eixos = plt.subplots(1, 3, figsize=(20, 5), sharey=True)\n",
        "\n",
        "for eixo, dataframe in enumerate([df, df_adimplente, df_inadimplente]):\n",
        "    f = sns.histplot(x=coluna, data=dataframe, stat='count', ax=eixos[eixo])\n",
        "    f.set(title=titulos[eixo], xlabel=coluna, ylabel='Frequência Absoluta')\n",
        "    f.set_ylim(0, None)\n",
        "\n",
        "plt.show()"
      ]
    },
    {
      "cell_type": "code",
      "execution_count": null,
      "metadata": {},
      "outputs": [],
      "source": [
        "sns.scatterplot(x='Valor_Transações_12m', y='Quantidade_Transações_12m', data=df, hue='default')\n",
        "plt.title('Relação entre Valor e Quantidade de Transações no Último Ano')\n",
        "plt.xlabel('Valor das Transações no Último Ano')\n",
        "plt.ylabel('Quantidade de Transações no Último Ano')\n",
        "\n",
        "plt.show()"
      ]
    },
    {
      "cell_type": "markdown",
      "metadata": {
        "id": "M3bGKCvW26S3"
      },
      "source": [
        "# 5\\. Conclusões"
      ]
    },
    {
      "cell_type": "markdown",
      "metadata": {},
      "source": [
        "As conclusões apresentadas a seguir derivam de uma análise detalhada dos dados fornecidos, que foram explorados e examinados com o objetivo de entender os padrões e tendências relacionados à inadimplência dos clientes. É importante ressaltar que essas conclusões refletem apenas os resultados obtidos a partir da análise do banco de dados disponível e não devem ser interpretadas como indicadores de total causalidade. Embora forneçam insights valiosos sobre os fatores associados à inadimplência, outras variáveis e fatores externos podem influenciar os resultados observados. Portanto, essas conclusões devem ser consideradas como parte de um quadro mais amplo e sujeitas a investigações adicionais e análises aprofundadas."
      ]
    },
    {
      "cell_type": "markdown",
      "metadata": {},
      "source": [
        "- Ao analisar as variáveis categóricas (Escolaridade, Estado Civil, Salário Anual e Limite do Cartão), não foi possível identificar nenhum padrão que justificasse a inadimplência dos clientes.\n",
        "\n",
        "-  Observou-se uma tendência de aumento do número de meses de relacionamento à medida que a idade dos clientes aumenta. Isso sugere que clientes com mais idade tendem a ter um relacionamento mais longo com a empresa.\n",
        "\n",
        "- Verificou-se uma tendência de inadimplência entre os clientes com até 30 anos de idade e menos de 40 meses de relacionamento com a instituição financeira.\n",
        "\n",
        "- Ao analisar as quantidades de transações nos últimos 12 meses, percebemos que os clientes que realizaram entre 20 e 60 transações tendem a se tornar inadimplentes.\n",
        "\n",
        "- A análise dos valores de transações nos últimos 12 meses indicou que os clientes com transações entre R$ 1.000 e R$ 3.000 estão mais propensos à inadimplência.\n",
        "\n",
        "- Notou-se que a maioria dos clientes com 60 a 80 transações no último ano e um valor de transações entre R$ 7.500 e R$ 10.000 são inadimplentes.\n",
        "\n",
        "- Por outro lado, clientes com mais de 100 transações no último ano e com valores de transações superiores a R$ 12.000 não indicam nenhum sinal de inadimplência.\n"
      ]
    }
  ],
  "metadata": {
    "colab": {
      "provenance": [],
      "toc_visible": true
    },
    "kaggle": {
      "accelerator": "none",
      "dataSources": [],
      "dockerImageVersionId": 30646,
      "isGpuEnabled": false,
      "isInternetEnabled": false,
      "language": "python",
      "sourceType": "notebook"
    },
    "kernelspec": {
      "display_name": "Python 3",
      "language": "python",
      "name": "python3"
    },
    "language_info": {
      "codemirror_mode": {
        "name": "ipython",
        "version": 3
      },
      "file_extension": ".py",
      "mimetype": "text/x-python",
      "name": "python",
      "nbconvert_exporter": "python",
      "pygments_lexer": "ipython3",
      "version": "3.11.5"
    }
  },
  "nbformat": 4,
  "nbformat_minor": 0
}
